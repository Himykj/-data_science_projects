{
 "cells": [
  {
   "cell_type": "markdown",
   "id": "58875e7a",
   "metadata": {},
   "source": [
    "# Hurricane Analysis"
   ]
  },
  {
   "cell_type": "markdown",
   "id": "9a2d9627",
   "metadata": {},
   "source": [
    "#### Overview"
   ]
  },
  {
   "cell_type": "markdown",
   "id": "633e5dde",
   "metadata": {},
   "source": [
    "This project is slightly different than others you have encountered thus far. Instead of a step-by-step tutorial, this project contains a series of open-ended requirements which describe the project you'll be building. There are many possible ways to correctly fulfill all of these requirements, and you should expect to use the internet, Codecademy, and other resources when you encounter a problem that you cannot easily solve."
   ]
  },
  {
   "cell_type": "markdown",
   "id": "52f01f07",
   "metadata": {},
   "source": [
    "#### Project Goals"
   ]
  },
  {
   "cell_type": "markdown",
   "id": "d9d06c43",
   "metadata": {},
   "source": [
    "You will work to write several functions that organize and manipulate data about Category 5 Hurricanes, the strongest hurricanes as rated by their wind speed. Each one of these functions will use a number of parameters, conditionals, lists, dictionaries, string manipulation, and return statements."
   ]
  },
  {
   "cell_type": "markdown",
   "id": "7fbb9fb5",
   "metadata": {},
   "source": [
    "#### Prerequisites"
   ]
  },
  {
   "cell_type": "markdown",
   "id": "4732a1e8",
   "metadata": {},
   "source": [
    "In order to complete this project, you should have completed the Loops and Dictionaries sections of the [Learn Python 3 Course](https://www.codecademy.com/learn/learn-python-3). This content is also covered in the [Data Scientist Career Path](https://www.codecademy.com/learn/paths/data-science/)."
   ]
  },
  {
   "cell_type": "markdown",
   "id": "1e924903",
   "metadata": {},
   "source": [
    "## Project Requirements"
   ]
  },
  {
   "cell_type": "markdown",
   "id": "35d6f74d",
   "metadata": {},
   "source": [
    "1. Hurricanes, also known as cyclones or typhoons, are one of the most powerful forces of nature on Earth. Due to climate change caused by human activity, the number and intensity of hurricanes has risen, calling for better preparation by the many communities that are devastated by them. As a concerned environmentalist, you want to look at data about the most powerful hurricanes that have occured. \n",
    "\n",
    "   Begin by looking at the `damages` list. The list contains strings representing the total cost in USD(`$`) caused by `34` category 5 hurricanes (wind speeds $\\ge$ 157 mph (252 km/h)) in the Atlantic region. For some of the hurricanes, damage data was not recorded (`\"Damages not recorded\"`), while the rest are written in the format `\"Prefix-B/M\"`, where `B` stands for billions (`1000000000`) and `M` stands for millions (`1000000`).\n",
    "   \n",
    "   Write a function that returns a new list of updated damages where the recorded data is converted to float values and the missing data is retained as `\"Damages not recorded\"`.\n",
    "   \n",
    "   Test your function with the data stored in `damages`."
   ]
  },
  {
   "cell_type": "code",
   "execution_count": 4,
   "id": "d8d3c50b",
   "metadata": {},
   "outputs": [
    {
     "name": "stdout",
     "output_type": "stream",
     "text": [
      "['Damages not recorded', 100000000.0, 'Damages not recorded', 40000000.0, 27900000.0, 5000000.0, 'Damages not recorded', 306000000.0, 2000000.0, 65800000.0, 326000000.0, 60300000.0, 208000000.0, 1420000000.0, 25400000.0, 'Damages not recorded', 1540000000.0, 1240000000.0, 7100000000.0, 10000000000.0, 26500000000.0, 6200000000.0, 5370000000.0, 23300000000.0, 1010000000.0, 125000000000.0, 12000000000.0, 29400000000.0, 1760000000.0, 720000000.0, 15100000000.0, 64800000000.0, 91600000000.0, 25100000000.0]\n"
     ]
    }
   ],
   "source": [
    "# damages (USD($)) of hurricanes\n",
    "damages = ['Damages not recorded', '100M', 'Damages not recorded', '40M',\n",
    "          '27.9M', '5M', 'Damages not recorded', '306M', '2M', '65.8M',\n",
    "          '326M', '60.3M', '208M', '1.42B', '25.4M', 'Damages not recorded',\n",
    "          '1.54B', '1.24B', '7.1B', '10B', '26.5B', '6.2B', '5.37B', '23.3B',\n",
    "          '1.01B', '125B', '12B', '29.4B', '1.76B', '720M', '15.1B', '64.8B',\n",
    "          '91.6B', '25.1B']\n",
    "\n",
    "\n",
    "# 1\n",
    "# Update Recorded Damages\n",
    "conversion = {\"M\": 1000000,\n",
    "             \"B\": 1000000000}\n",
    "def update_damages(damages_original):\n",
    "    updated_damages = []\n",
    "    for damage in damages_original:\n",
    "        if damage == \"Damages not recorded\":\n",
    "            updated_damages.append(damage)\n",
    "        else:\n",
    "            figure = float(damage[:-1])\n",
    "            scale = damage[-1]\n",
    "            updated_damages.append(figure*conversion[scale])\n",
    "    return updated_damages\n",
    "            \n",
    "                  \n",
    "\n",
    "# test function by updating damages\n",
    "damages_updated = update_damages(damages)\n",
    "print(damages_updated)\n"
   ]
  },
  {
   "cell_type": "markdown",
   "id": "36ac47b6",
   "metadata": {},
   "source": [
    "2. Additional data collected on the `34` strongest Atlantic hurricanes are provided in a series of lists. The data includes:\n",
    "   - `names`: names of the hurricanes\n",
    "   - `months`: months in which the hurricanes occurred\n",
    "   - `years`: years in which the hurricanes occurred\n",
    "   - `max_sustained_winds`: maximum sustained winds (miles per hour) of the hurricanes\n",
    "   - `areas_affected`: list of different areas affected by each of the hurricanes\n",
    "   - `deaths`: total number of deaths caused by each of the hurricanes\n",
    "   \n",
    "   The data is organized such that the data at each index, from `0` to `33`, corresponds to the same hurricane.\n",
    "   \n",
    "   For example, `names[0]` yields the \"Cuba I\" hurricane, which occurred in `months[0]` (October) `years[0]` (1924).\n",
    "   \n",
    "   Write a function that constructs a dictionary made out of the lists, where the keys of the dictionary are the names of the hurricanes, and the values are dictionaries themselves containing a key for each piece of data (`Name`, `Month`, `Year`, `Max Sustained Wind`, `Areas Affected`, `Damage`, `Death`) about the hurricane.\n",
    "   \n",
    "   Thus the key `\"Cuba I\"` would have the value: `{'Name': 'Cuba I', 'Month': 'October', 'Year': 1924, 'Max Sustained Wind': 165, 'Areas Affected': ['Central America', 'Mexico', 'Cuba', 'Florida', 'The Bahamas'], 'Damage': 'Damages not recorded', 'Deaths': 90}`.\n",
    "   \n",
    "   Test your function on the lists of data provided."
   ]
  },
  {
   "cell_type": "code",
   "execution_count": 5,
   "id": "641aa113",
   "metadata": {},
   "outputs": [
    {
     "name": "stdout",
     "output_type": "stream",
     "text": [
      "{'Cuba I': {'name': 'Cuba I', 'month': 'October', 'year': 1924, 'max_sustained_winds': 165, 'areas_affected': ['Central America', 'Mexico', 'Cuba', 'Florida', 'The Bahamas'], 'damages': 'Damages not recorded', 'deaths': 90}, 'San Felipe II Okeechobee': {'name': 'San Felipe II Okeechobee', 'month': 'September', 'year': 1928, 'max_sustained_winds': 160, 'areas_affected': ['Lesser Antilles', 'The Bahamas', 'United States East Coast', 'Atlantic Canada'], 'damages': 100000000.0, 'deaths': 4000}, 'Bahamas': {'name': 'Bahamas', 'month': 'September', 'year': 1932, 'max_sustained_winds': 160, 'areas_affected': ['The Bahamas', 'Northeastern United States'], 'damages': 'Damages not recorded', 'deaths': 16}, 'Cuba II': {'name': 'Cuba II', 'month': 'November', 'year': 1932, 'max_sustained_winds': 175, 'areas_affected': ['Lesser Antilles', 'Jamaica', 'Cayman Islands', 'Cuba', 'The Bahamas', 'Bermuda'], 'damages': 40000000.0, 'deaths': 3103}, 'CubaBrownsville': {'name': 'CubaBrownsville', 'month': 'August', 'year': 1933, 'max_sustained_winds': 160, 'areas_affected': ['The Bahamas', 'Cuba', 'Florida', 'Texas', 'Tamaulipas'], 'damages': 27900000.0, 'deaths': 179}, 'Tampico': {'name': 'Tampico', 'month': 'September', 'year': 1933, 'max_sustained_winds': 160, 'areas_affected': ['Jamaica', 'Yucatn Peninsula'], 'damages': 5000000.0, 'deaths': 184}, 'Labor Day': {'name': 'Labor Day', 'month': 'September', 'year': 1935, 'max_sustained_winds': 185, 'areas_affected': ['The Bahamas', 'Florida', 'Georgia', 'The Carolinas', 'Virginia'], 'damages': 'Damages not recorded', 'deaths': 408}, 'New England': {'name': 'New England', 'month': 'September', 'year': 1938, 'max_sustained_winds': 160, 'areas_affected': ['Southeastern United States', 'Northeastern United States', 'Southwestern Quebec'], 'damages': 306000000.0, 'deaths': 682}, 'Carol': {'name': 'Carol', 'month': 'September', 'year': 1953, 'max_sustained_winds': 160, 'areas_affected': ['Bermuda', 'New England', 'Atlantic Canada'], 'damages': 2000000.0, 'deaths': 5}, 'Janet': {'name': 'Janet', 'month': 'September', 'year': 1955, 'max_sustained_winds': 175, 'areas_affected': ['Lesser Antilles', 'Central America'], 'damages': 65800000.0, 'deaths': 1023}, 'Carla': {'name': 'Carla', 'month': 'September', 'year': 1961, 'max_sustained_winds': 175, 'areas_affected': ['Texas', 'Louisiana', 'Midwestern United States'], 'damages': 326000000.0, 'deaths': 43}, 'Hattie': {'name': 'Hattie', 'month': 'October', 'year': 1961, 'max_sustained_winds': 160, 'areas_affected': ['Central America'], 'damages': 60300000.0, 'deaths': 319}, 'Beulah': {'name': 'Beulah', 'month': 'September', 'year': 1967, 'max_sustained_winds': 160, 'areas_affected': ['The Caribbean', 'Mexico', 'Texas'], 'damages': 208000000.0, 'deaths': 688}, 'Camille': {'name': 'Camille', 'month': 'August', 'year': 1969, 'max_sustained_winds': 175, 'areas_affected': ['Cuba', 'United States Gulf Coast'], 'damages': 1420000000.0, 'deaths': 259}, 'Edith': {'name': 'Edith', 'month': 'September', 'year': 1971, 'max_sustained_winds': 160, 'areas_affected': ['The Caribbean', 'Central America', 'Mexico', 'United States Gulf Coast'], 'damages': 25400000.0, 'deaths': 37}, 'Anita': {'name': 'Anita', 'month': 'September', 'year': 1977, 'max_sustained_winds': 175, 'areas_affected': ['Mexico'], 'damages': 'Damages not recorded', 'deaths': 11}, 'David': {'name': 'David', 'month': 'August', 'year': 1979, 'max_sustained_winds': 175, 'areas_affected': ['The Caribbean', 'United States East coast'], 'damages': 1540000000.0, 'deaths': 2068}, 'Allen': {'name': 'Allen', 'month': 'August', 'year': 1980, 'max_sustained_winds': 190, 'areas_affected': ['The Caribbean', 'Yucatn Peninsula', 'Mexico', 'South Texas'], 'damages': 1240000000.0, 'deaths': 269}, 'Gilbert': {'name': 'Gilbert', 'month': 'September', 'year': 1988, 'max_sustained_winds': 185, 'areas_affected': ['Jamaica', 'Venezuela', 'Central America', 'Hispaniola', 'Mexico'], 'damages': 7100000000.0, 'deaths': 318}, 'Hugo': {'name': 'Hugo', 'month': 'September', 'year': 1989, 'max_sustained_winds': 160, 'areas_affected': ['The Caribbean', 'United States East Coast'], 'damages': 10000000000.0, 'deaths': 107}, 'Andrew': {'name': 'Andrew', 'month': 'August', 'year': 1992, 'max_sustained_winds': 175, 'areas_affected': ['The Bahamas', 'Florida', 'United States Gulf Coast'], 'damages': 26500000000.0, 'deaths': 65}, 'Mitch': {'name': 'Mitch', 'month': 'October', 'year': 1998, 'max_sustained_winds': 180, 'areas_affected': ['Central America', 'Yucatn Peninsula', 'South Florida'], 'damages': 6200000000.0, 'deaths': 19325}, 'Isabel': {'name': 'Isabel', 'month': 'September', 'year': 2003, 'max_sustained_winds': 165, 'areas_affected': ['Greater Antilles', 'Bahamas', 'Eastern United States', 'Ontario'], 'damages': 5370000000.0, 'deaths': 51}, 'Ivan': {'name': 'Ivan', 'month': 'September', 'year': 2004, 'max_sustained_winds': 165, 'areas_affected': ['The Caribbean', 'Venezuela', 'United States Gulf Coast'], 'damages': 23300000000.0, 'deaths': 124}, 'Emily': {'name': 'Emily', 'month': 'July', 'year': 2005, 'max_sustained_winds': 160, 'areas_affected': ['Windward Islands', 'Jamaica', 'Mexico', 'Texas'], 'damages': 1010000000.0, 'deaths': 17}, 'Katrina': {'name': 'Katrina', 'month': 'August', 'year': 2005, 'max_sustained_winds': 175, 'areas_affected': ['Bahamas', 'United States Gulf Coast'], 'damages': 125000000000.0, 'deaths': 1836}, 'Rita': {'name': 'Rita', 'month': 'September', 'year': 2005, 'max_sustained_winds': 180, 'areas_affected': ['Cuba', 'United States Gulf Coast'], 'damages': 12000000000.0, 'deaths': 125}, 'Wilma': {'name': 'Wilma', 'month': 'October', 'year': 2005, 'max_sustained_winds': 185, 'areas_affected': ['Greater Antilles', 'Central America', 'Florida'], 'damages': 29400000000.0, 'deaths': 87}, 'Dean': {'name': 'Dean', 'month': 'August', 'year': 2007, 'max_sustained_winds': 175, 'areas_affected': ['The Caribbean', 'Central America'], 'damages': 1760000000.0, 'deaths': 45}, 'Felix': {'name': 'Felix', 'month': 'September', 'year': 2007, 'max_sustained_winds': 175, 'areas_affected': ['Nicaragua', 'Honduras'], 'damages': 720000000.0, 'deaths': 133}, 'Matthew': {'name': 'Matthew', 'month': 'October', 'year': 2016, 'max_sustained_winds': 165, 'areas_affected': ['Antilles', 'Venezuela', 'Colombia', 'United States East Coast', 'Atlantic Canada'], 'damages': 15100000000.0, 'deaths': 603}, 'Irma': {'name': 'Irma', 'month': 'September', 'year': 2017, 'max_sustained_winds': 180, 'areas_affected': ['Cape Verde', 'The Caribbean', 'British Virgin Islands', 'U.S. Virgin Islands', 'Cuba', 'Florida'], 'damages': 64800000000.0, 'deaths': 138}, 'Maria': {'name': 'Maria', 'month': 'September', 'year': 2017, 'max_sustained_winds': 175, 'areas_affected': ['Lesser Antilles', 'Virgin Islands', 'Puerto Rico', 'Dominican Republic', 'Turks and Caicos Islands'], 'damages': 91600000000.0, 'deaths': 3057}, 'Michael': {'name': 'Michael', 'month': 'October', 'year': 2018, 'max_sustained_winds': 160, 'areas_affected': ['Central America', 'United States Gulf Coast (especially Florida Panhandle)'], 'damages': 25100000000.0, 'deaths': 74}}\n"
     ]
    }
   ],
   "source": [
    "# names of hurricanes\n",
    "names = ['Cuba I', 'San Felipe II Okeechobee', 'Bahamas', 'Cuba II', 'CubaBrownsville', 'Tampico', 'Labor Day', 'New England', 'Carol', 'Janet', 'Carla', 'Hattie', 'Beulah', 'Camille', 'Edith', 'Anita', 'David', 'Allen', 'Gilbert', 'Hugo', 'Andrew', 'Mitch', 'Isabel', 'Ivan', 'Emily', 'Katrina', 'Rita', 'Wilma', 'Dean', 'Felix', 'Matthew', 'Irma', 'Maria', 'Michael']\n",
    "\n",
    "# months of hurricanes\n",
    "months = ['October', 'September', 'September', 'November', 'August', 'September', 'September', 'September', 'September', 'September', 'September', 'October', 'September', 'August', 'September', 'September', 'August', 'August', 'September', 'September', 'August', 'October', 'September', 'September', 'July', 'August', 'September', 'October', 'August', 'September', 'October', 'September', 'September', 'October']\n",
    "\n",
    "# years of hurricanes\n",
    "years = [1924, 1928, 1932, 1932, 1933, 1933, 1935, 1938, 1953, 1955, 1961, 1961, 1967, 1969, 1971, 1977, 1979, 1980, 1988, 1989, 1992, 1998, 2003, 2004, 2005, 2005, 2005, 2005, 2007, 2007, 2016, 2017, 2017, 2018]\n",
    "\n",
    "# maximum sustained winds (mph) of hurricanes\n",
    "max_sustained_winds = [165, 160, 160, 175, 160, 160, 185, 160, 160, 175, 175, 160, 160, 175, 160, 175, 175, 190, 185, 160, 175, 180, 165, 165, 160, 175, 180, 185, 175, 175, 165, 180, 175, 160]\n",
    "\n",
    "# areas affected by each hurricane\n",
    "areas_affected = [['Central America', 'Mexico', 'Cuba', 'Florida', 'The Bahamas'], ['Lesser Antilles', 'The Bahamas', 'United States East Coast', 'Atlantic Canada'], ['The Bahamas', 'Northeastern United States'], ['Lesser Antilles', 'Jamaica', 'Cayman Islands', 'Cuba', 'The Bahamas', 'Bermuda'], ['The Bahamas', 'Cuba', 'Florida', 'Texas', 'Tamaulipas'], ['Jamaica', 'Yucatn Peninsula'], ['The Bahamas', 'Florida', 'Georgia', 'The Carolinas', 'Virginia'], ['Southeastern United States', 'Northeastern United States', 'Southwestern Quebec'], ['Bermuda', 'New England', 'Atlantic Canada'], ['Lesser Antilles', 'Central America'], ['Texas', 'Louisiana', 'Midwestern United States'], ['Central America'], ['The Caribbean', 'Mexico', 'Texas'], ['Cuba', 'United States Gulf Coast'], ['The Caribbean', 'Central America', 'Mexico', 'United States Gulf Coast'], ['Mexico'], ['The Caribbean', 'United States East coast'], ['The Caribbean', 'Yucatn Peninsula', 'Mexico', 'South Texas'], ['Jamaica', 'Venezuela', 'Central America', 'Hispaniola', 'Mexico'], ['The Caribbean', 'United States East Coast'], ['The Bahamas', 'Florida', 'United States Gulf Coast'], ['Central America', 'Yucatn Peninsula', 'South Florida'], ['Greater Antilles', 'Bahamas', 'Eastern United States', 'Ontario'], ['The Caribbean', 'Venezuela', 'United States Gulf Coast'], ['Windward Islands', 'Jamaica', 'Mexico', 'Texas'], ['Bahamas', 'United States Gulf Coast'], ['Cuba', 'United States Gulf Coast'], ['Greater Antilles', 'Central America', 'Florida'], ['The Caribbean', 'Central America'], ['Nicaragua', 'Honduras'], ['Antilles', 'Venezuela', 'Colombia', 'United States East Coast', 'Atlantic Canada'], ['Cape Verde', 'The Caribbean', 'British Virgin Islands', 'U.S. Virgin Islands', 'Cuba', 'Florida'], ['Lesser Antilles', 'Virgin Islands', 'Puerto Rico', 'Dominican Republic', 'Turks and Caicos Islands'], ['Central America', 'United States Gulf Coast (especially Florida Panhandle)']]\n",
    "\n",
    "# damages (USD($)) of hurricanes\n",
    "damages = ['Damages not recorded', '100M', 'Damages not recorded', '40M', '27.9M', '5M', 'Damages not recorded', '306M', '2M', '65.8M', '326M', '60.3M', '208M', '1.42B', '25.4M', 'Damages not recorded', '1.54B', '1.24B', '7.1B', '10B', '26.5B', '6.2B', '5.37B', '23.3B', '1.01B', '125B', '12B', '29.4B', '1.76B', '720M', '15.1B', '64.8B', '91.6B', '25.1B']\n",
    "\n",
    "# deaths for each hurricane\n",
    "deaths = [90,4000,16,3103,179,184,408,682,5,1023,43,319,688,259,37,11,2068,269,318,107,65,19325,51,124,17,1836,125,87,45,133,603,138,3057,74]\n",
    "\n",
    "# 2\n",
    "# Create a Table\n",
    "def names_as_key(names, months, years, max_sustained_winds, areas_affected, damages_updated, deaths):\n",
    "    hurricane_by_names = {}\n",
    "    for i in range(len(names)):\n",
    "        hurricane_by_names[names[i]] = {\n",
    "            \"name\": names[i],\n",
    "            \"month\": months[i],\n",
    "            \"year\": years[i],\n",
    "            \"max_sustained_winds\": max_sustained_winds[i],\n",
    "            \"areas_affected\": areas_affected[i],\n",
    "            \"damages\": damages_updated[i],\n",
    "            \"deaths\": deaths[i]    \n",
    "        }\n",
    "\n",
    "    return hurricane_by_names\n",
    "    \n",
    "    \n",
    "# Create and view the hurricanes dictionary\n",
    "hurricanes = names_as_key(names, months, years, max_sustained_winds, areas_affected, damages_updated, deaths)\n",
    "print(hurricanes)"
   ]
  },
  {
   "cell_type": "markdown",
   "id": "6d0a1933",
   "metadata": {},
   "source": [
    "3. In addition to organizing the hurricanes in a dictionary with names as the key, you want to be able to organize the hurricanes by year.\n",
    "\n",
    "   Write a function that converts the current dictionary of hurricanes to a new dictionary, where the keys are years and the values are lists containing a dictionary for each hurricane that occurred in that year.\n",
    "   \n",
    "   For example, the key `1932` would yield the value: `[{'Name': 'Bahamas', 'Month': 'September', 'Year': 1932, 'Max Sustained Wind': 160, 'Areas Affected': ['The Bahamas', 'Northeastern United States'], 'Damage': 'Damage not recorded', 'Deaths': 16}, {'Name': 'Cuba II', 'Month': 'November', 'Year': 1932, 'Max Sustained Wind': 175, 'Areas Affected': ['Lesser Antilles', 'Jamaica', 'Cayman Islands', 'Cuba', 'The Bahamas', 'Bermuda'], 'Damage': 40000000.0, 'Deaths': 3103}]`.\n",
    "   \n",
    "   Test your function on your hurricane dictionary."
   ]
  },
  {
   "cell_type": "code",
   "execution_count": null,
   "id": "05af2bed-00e8-46e3-acc9-5971047bc1a3",
   "metadata": {},
   "outputs": [],
   "source": []
  },
  {
   "cell_type": "code",
   "execution_count": 7,
   "id": "1ef2edea",
   "metadata": {},
   "outputs": [
    {
     "name": "stdout",
     "output_type": "stream",
     "text": [
      "{1924: [{'name': 'Cuba I', 'month': 'October', 'year': 1924, 'max_sustained_winds': 165, 'areas_affected': ['Central America', 'Mexico', 'Cuba', 'Florida', 'The Bahamas'], 'damages': 'Damages not recorded', 'deaths': 90}], 1928: [{'name': 'San Felipe II Okeechobee', 'month': 'September', 'year': 1928, 'max_sustained_winds': 160, 'areas_affected': ['Lesser Antilles', 'The Bahamas', 'United States East Coast', 'Atlantic Canada'], 'damages': 100000000.0, 'deaths': 4000}], 1932: [{'name': 'Bahamas', 'month': 'September', 'year': 1932, 'max_sustained_winds': 160, 'areas_affected': ['The Bahamas', 'Northeastern United States'], 'damages': 'Damages not recorded', 'deaths': 16}, {'name': 'Cuba II', 'month': 'November', 'year': 1932, 'max_sustained_winds': 175, 'areas_affected': ['Lesser Antilles', 'Jamaica', 'Cayman Islands', 'Cuba', 'The Bahamas', 'Bermuda'], 'damages': 40000000.0, 'deaths': 3103}], 1933: [{'name': 'CubaBrownsville', 'month': 'August', 'year': 1933, 'max_sustained_winds': 160, 'areas_affected': ['The Bahamas', 'Cuba', 'Florida', 'Texas', 'Tamaulipas'], 'damages': 27900000.0, 'deaths': 179}, {'name': 'Tampico', 'month': 'September', 'year': 1933, 'max_sustained_winds': 160, 'areas_affected': ['Jamaica', 'Yucatn Peninsula'], 'damages': 5000000.0, 'deaths': 184}], 1935: [{'name': 'Labor Day', 'month': 'September', 'year': 1935, 'max_sustained_winds': 185, 'areas_affected': ['The Bahamas', 'Florida', 'Georgia', 'The Carolinas', 'Virginia'], 'damages': 'Damages not recorded', 'deaths': 408}], 1938: [{'name': 'New England', 'month': 'September', 'year': 1938, 'max_sustained_winds': 160, 'areas_affected': ['Southeastern United States', 'Northeastern United States', 'Southwestern Quebec'], 'damages': 306000000.0, 'deaths': 682}], 1953: [{'name': 'Carol', 'month': 'September', 'year': 1953, 'max_sustained_winds': 160, 'areas_affected': ['Bermuda', 'New England', 'Atlantic Canada'], 'damages': 2000000.0, 'deaths': 5}], 1955: [{'name': 'Janet', 'month': 'September', 'year': 1955, 'max_sustained_winds': 175, 'areas_affected': ['Lesser Antilles', 'Central America'], 'damages': 65800000.0, 'deaths': 1023}], 1961: [{'name': 'Carla', 'month': 'September', 'year': 1961, 'max_sustained_winds': 175, 'areas_affected': ['Texas', 'Louisiana', 'Midwestern United States'], 'damages': 326000000.0, 'deaths': 43}, {'name': 'Hattie', 'month': 'October', 'year': 1961, 'max_sustained_winds': 160, 'areas_affected': ['Central America'], 'damages': 60300000.0, 'deaths': 319}], 1967: [{'name': 'Beulah', 'month': 'September', 'year': 1967, 'max_sustained_winds': 160, 'areas_affected': ['The Caribbean', 'Mexico', 'Texas'], 'damages': 208000000.0, 'deaths': 688}], 1969: [{'name': 'Camille', 'month': 'August', 'year': 1969, 'max_sustained_winds': 175, 'areas_affected': ['Cuba', 'United States Gulf Coast'], 'damages': 1420000000.0, 'deaths': 259}], 1971: [{'name': 'Edith', 'month': 'September', 'year': 1971, 'max_sustained_winds': 160, 'areas_affected': ['The Caribbean', 'Central America', 'Mexico', 'United States Gulf Coast'], 'damages': 25400000.0, 'deaths': 37}], 1977: [{'name': 'Anita', 'month': 'September', 'year': 1977, 'max_sustained_winds': 175, 'areas_affected': ['Mexico'], 'damages': 'Damages not recorded', 'deaths': 11}], 1979: [{'name': 'David', 'month': 'August', 'year': 1979, 'max_sustained_winds': 175, 'areas_affected': ['The Caribbean', 'United States East coast'], 'damages': 1540000000.0, 'deaths': 2068}], 1980: [{'name': 'Allen', 'month': 'August', 'year': 1980, 'max_sustained_winds': 190, 'areas_affected': ['The Caribbean', 'Yucatn Peninsula', 'Mexico', 'South Texas'], 'damages': 1240000000.0, 'deaths': 269}], 1988: [{'name': 'Gilbert', 'month': 'September', 'year': 1988, 'max_sustained_winds': 185, 'areas_affected': ['Jamaica', 'Venezuela', 'Central America', 'Hispaniola', 'Mexico'], 'damages': 7100000000.0, 'deaths': 318}], 1989: [{'name': 'Hugo', 'month': 'September', 'year': 1989, 'max_sustained_winds': 160, 'areas_affected': ['The Caribbean', 'United States East Coast'], 'damages': 10000000000.0, 'deaths': 107}], 1992: [{'name': 'Andrew', 'month': 'August', 'year': 1992, 'max_sustained_winds': 175, 'areas_affected': ['The Bahamas', 'Florida', 'United States Gulf Coast'], 'damages': 26500000000.0, 'deaths': 65}], 1998: [{'name': 'Mitch', 'month': 'October', 'year': 1998, 'max_sustained_winds': 180, 'areas_affected': ['Central America', 'Yucatn Peninsula', 'South Florida'], 'damages': 6200000000.0, 'deaths': 19325}], 2003: [{'name': 'Isabel', 'month': 'September', 'year': 2003, 'max_sustained_winds': 165, 'areas_affected': ['Greater Antilles', 'Bahamas', 'Eastern United States', 'Ontario'], 'damages': 5370000000.0, 'deaths': 51}], 2004: [{'name': 'Ivan', 'month': 'September', 'year': 2004, 'max_sustained_winds': 165, 'areas_affected': ['The Caribbean', 'Venezuela', 'United States Gulf Coast'], 'damages': 23300000000.0, 'deaths': 124}], 2005: [{'name': 'Emily', 'month': 'July', 'year': 2005, 'max_sustained_winds': 160, 'areas_affected': ['Windward Islands', 'Jamaica', 'Mexico', 'Texas'], 'damages': 1010000000.0, 'deaths': 17}, {'name': 'Katrina', 'month': 'August', 'year': 2005, 'max_sustained_winds': 175, 'areas_affected': ['Bahamas', 'United States Gulf Coast'], 'damages': 125000000000.0, 'deaths': 1836}, {'name': 'Rita', 'month': 'September', 'year': 2005, 'max_sustained_winds': 180, 'areas_affected': ['Cuba', 'United States Gulf Coast'], 'damages': 12000000000.0, 'deaths': 125}, {'name': 'Wilma', 'month': 'October', 'year': 2005, 'max_sustained_winds': 185, 'areas_affected': ['Greater Antilles', 'Central America', 'Florida'], 'damages': 29400000000.0, 'deaths': 87}], 2007: [{'name': 'Dean', 'month': 'August', 'year': 2007, 'max_sustained_winds': 175, 'areas_affected': ['The Caribbean', 'Central America'], 'damages': 1760000000.0, 'deaths': 45}, {'name': 'Felix', 'month': 'September', 'year': 2007, 'max_sustained_winds': 175, 'areas_affected': ['Nicaragua', 'Honduras'], 'damages': 720000000.0, 'deaths': 133}], 2016: [{'name': 'Matthew', 'month': 'October', 'year': 2016, 'max_sustained_winds': 165, 'areas_affected': ['Antilles', 'Venezuela', 'Colombia', 'United States East Coast', 'Atlantic Canada'], 'damages': 15100000000.0, 'deaths': 603}], 2017: [{'name': 'Irma', 'month': 'September', 'year': 2017, 'max_sustained_winds': 180, 'areas_affected': ['Cape Verde', 'The Caribbean', 'British Virgin Islands', 'U.S. Virgin Islands', 'Cuba', 'Florida'], 'damages': 64800000000.0, 'deaths': 138}, {'name': 'Maria', 'month': 'September', 'year': 2017, 'max_sustained_winds': 175, 'areas_affected': ['Lesser Antilles', 'Virgin Islands', 'Puerto Rico', 'Dominican Republic', 'Turks and Caicos Islands'], 'damages': 91600000000.0, 'deaths': 3057}], 2018: [{'name': 'Michael', 'month': 'October', 'year': 2018, 'max_sustained_winds': 160, 'areas_affected': ['Central America', 'United States Gulf Coast (especially Florida Panhandle)'], 'damages': 25100000000.0, 'deaths': 74}]}\n"
     ]
    }
   ],
   "source": [
    "# 3\n",
    "# Organizing by Year\n",
    "def organize_by_year(hurri_canes):\n",
    "    organized_by_year = {}\n",
    "    for cane, data in hurri_canes.items():\n",
    "        year = data[\"year\"]\n",
    "        if year not in organized_by_year:\n",
    "            organized_by_year[year] = []\n",
    "        organized_by_year[year].append(data)\n",
    "    return organized_by_year\n",
    "\n",
    "# create a new dictionary of hurricanes with year and key\n",
    "hurricanes_by_year = organize_by_year(hurricanes)\n",
    "print(hurricanes_by_year)\n"
   ]
  },
  {
   "cell_type": "markdown",
   "id": "66973f77",
   "metadata": {},
   "source": [
    "4. You believe that knowing how often each of the areas of the Atlantic are affected by these strong hurricanes is important for making preparations for future hurricanes.\n",
    "\n",
    "   Write a function that counts how often each area is listed as an affected area of a hurricane. Store and return the results in a dictionary where the keys are the affected areas and the values are counts of how many times the areas were affected.\n",
    "   \n",
    "   Test your function on your hurricane dictionary."
   ]
  },
  {
   "cell_type": "code",
   "execution_count": 6,
   "id": "bff86f77",
   "metadata": {},
   "outputs": [
    {
     "name": "stdout",
     "output_type": "stream",
     "text": [
      "{'Central America': 9, 'Mexico': 7, 'Cuba': 6, 'Florida': 6, 'The Bahamas': 7, 'Lesser Antilles': 4, 'United States East Coast': 3, 'Atlantic Canada': 3, 'Northeastern United States': 2, 'Jamaica': 4, 'Cayman Islands': 1, 'Bermuda': 2, 'Texas': 4, 'Tamaulipas': 1, 'Yucatn Peninsula': 3, 'Georgia': 1, 'The Carolinas': 1, 'Virginia': 1, 'Southeastern United States': 1, 'Southwestern Quebec': 1, 'New England': 1, 'Louisiana': 1, 'Midwestern United States': 1, 'The Caribbean': 8, 'United States Gulf Coast': 6, 'United States East coast': 1, 'South Texas': 1, 'Venezuela': 3, 'Hispaniola': 1, 'South Florida': 1, 'Greater Antilles': 2, 'Bahamas': 2, 'Eastern United States': 1, 'Ontario': 1, 'Windward Islands': 1, 'Nicaragua': 1, 'Honduras': 1, 'Antilles': 1, 'Colombia': 1, 'Cape Verde': 1, 'British Virgin Islands': 1, 'U.S. Virgin Islands': 1, 'Virgin Islands': 1, 'Puerto Rico': 1, 'Dominican Republic': 1, 'Turks and Caicos Islands': 1, 'United States Gulf Coast (especially Florida Panhandle)': 1}\n"
     ]
    }
   ],
   "source": [
    "# 4\n",
    "# Counting Damaged Areas\n",
    "def create_how_often(h_canes):\n",
    "    how_often = {}\n",
    "    for data in h_canes.values():\n",
    "        for area in data[\"areas_affected\"]:\n",
    "            if area not in how_often:\n",
    "                how_often[area] = 0\n",
    "            how_often[area] += 1\n",
    "    return how_often\n",
    "    \n",
    "area_frequency = create_how_often(hurricanes) \n",
    "print(area_frequency)\n",
    "    \n",
    "# create dictionary of areas to store the number of hurricanes involved in\n"
   ]
  },
  {
   "cell_type": "markdown",
   "id": "e015eeb3",
   "metadata": {},
   "source": [
    "5. Write a function that finds the area affected by the most hurricanes, and how often it was hit.\n",
    "\n",
    "   Test your function on your affected area dictionary."
   ]
  },
  {
   "cell_type": "code",
   "execution_count": 7,
   "id": "643c73f9",
   "metadata": {},
   "outputs": [
    {
     "name": "stdout",
     "output_type": "stream",
     "text": [
      "Central America is the area most affected by hurricanes with 9 occurances\n"
     ]
    }
   ],
   "source": [
    "# 5\n",
    "# Calculating Maximum Hurricane Count\n",
    "def find_most_affected_area(canes):\n",
    "    most_affected_area = None\n",
    "    number_of_times = float(\"-inf\")\n",
    "    for area, num in canes.items():\n",
    "        if num > number_of_times:\n",
    "            most_affected_area = area\n",
    "            number_of_times = num\n",
    "    return most_affected_area, number_of_times\n",
    "    \n",
    "\n",
    "# find most frequently affected area and the number of hurricanes involved in\n",
    "most_affected_area, number_of_times = find_most_affected_area(area_frequency)\n",
    "print(f\"{most_affected_area} is the area most affected by hurricanes with {number_of_times} occurances\")"
   ]
  },
  {
   "cell_type": "markdown",
   "id": "4c120f59",
   "metadata": {},
   "source": [
    "6. Write a function that finds the hurricane that caused the greatest number of deaths, and how many deaths it caused.\n",
    "\n",
    "   Test your function on your hurricane dictionary."
   ]
  },
  {
   "cell_type": "code",
   "execution_count": 23,
   "id": "ced02448",
   "metadata": {},
   "outputs": [
    {
     "name": "stdout",
     "output_type": "stream",
     "text": [
      "Mitch is the deadliest hurricane with 19325 number of deaths\n"
     ]
    }
   ],
   "source": [
    "# 6\n",
    "# Calculating the Deadliest Hurricane\n",
    "def find_deadliest_hurricane(h_cane):\n",
    "    num_of_deaths = float(\"-inf\")\n",
    "    deadliest_h_cane = None\n",
    "    for cane in h_cane.values():\n",
    "        if cane[\"deaths\"] > num_of_deaths:\n",
    "            num_of_deaths = cane[\"deaths\"]\n",
    "            deadliest_h_cane = cane[\"name\"]\n",
    "    return deadliest_h_cane, num_of_deaths\n",
    "# find highest mortality hurricane and the number of deaths\n",
    "deadliest_hurricane, num_of_deaths = find_deadliest_hurricane(hurricanes)\n",
    "print(f\"{deadliest_hurricane} is the deadliest hurricane with {num_of_deaths} number of deaths\")"
   ]
  },
  {
   "cell_type": "markdown",
   "id": "9ddd39b0",
   "metadata": {},
   "source": [
    "7. Just as hurricanes are rated by their windspeed, you want to try rating hurricanes based on other metrics.\n",
    "\n",
    "   Write a function that rates hurricanes on a mortality scale according to the following ratings, where the key is the rating and the value is the upper bound of deaths for that rating.\n",
    "   \n",
    "   ```py\n",
    "   mortality_scale = {0: 0,\n",
    "   1: 100,\n",
    "   2: 500,\n",
    "   3: 1000,\n",
    "   4: 10000}\n",
    "   ```\n",
    "   \n",
    "   For example, a hurricane with a `1` mortality rating would have resulted in greater than `0` but less than or equal to `100` deaths. A hurricane with a `5` mortality would have resulted in greater than `10000` deaths.\n",
    "   \n",
    "   Store the hurricanes in a new dictionary where the keys are the mortaility ratings and the values are lists containing a dictionary for each hurricane that falls into that mortality rating.\n",
    "   \n",
    "   Test your function on your hurricane dictionary."
   ]
  },
  {
   "cell_type": "code",
   "execution_count": 28,
   "id": "9eea4dc7",
   "metadata": {},
   "outputs": [
    {
     "name": "stdout",
     "output_type": "stream",
     "text": [
      "[{'name': 'Mitch', 'month': 'October', 'year': 1998, 'max_sustained_winds': 180, 'areas_affected': ['Central America', 'Yucatn Peninsula', 'South Florida'], 'damages': 6200000000.0, 'deaths': 19325}]\n"
     ]
    }
   ],
   "source": [
    "# 7\n",
    "# Rating Hurricanes by Mortality\n",
    "def rate_hurricane_by_mortality(hurricanes):\n",
    "    mortality_scale = {0: 0,\n",
    "    1: 100,\n",
    "    2: 500,\n",
    "    3: 1000,\n",
    "    4: 10000}\n",
    "    \n",
    "    hurricane_rated = {0: [], 1:[], 2: [], 3:[], 4:[], 5:[]}\n",
    "    for hurricane, data in hurricanes.items():\n",
    "        deaths = data[\"deaths\"]\n",
    "        if deaths == mortality_scale[0]:\n",
    "            hurricane_rated[0].append(data)\n",
    "        elif mortality_scale[0] < deaths <= mortality_scale[1]:\n",
    "            hurricane_rated[1].append(data)\n",
    "        elif mortality_scale[1] < deaths <= mortality_scale[2]:\n",
    "            hurricane_rated[2].append(data)\n",
    "        elif mortality_scale[2] < deaths <= mortality_scale[3]:\n",
    "            hurricane_rated[3].append(data)\n",
    "        elif mortality_scale[3] < deaths <= mortality_scale[4]:\n",
    "            hurricane_rated[4].append(data)\n",
    "        elif deaths > mortality_scale[4]:\n",
    "            hurricane_rated[5].append(data)\n",
    "    return hurricane_rated\n",
    "        \n",
    "    \n",
    "# categorize hurricanes in new dictionary with mortality severity as key\n",
    "mortality_rating = rate_hurricane_by_mortality(hurricanes)\n",
    "print(mortality_rating[5])"
   ]
  },
  {
   "cell_type": "markdown",
   "id": "199b0e1c",
   "metadata": {},
   "source": [
    "8. Write a function that finds the hurricane that caused the greatest damage, and how costly it was.\n",
    "\n",
    "   Test your function on your hurricane dictionary."
   ]
  },
  {
   "cell_type": "code",
   "execution_count": 33,
   "id": "b3dc79b4",
   "metadata": {},
   "outputs": [
    {
     "name": "stdout",
     "output_type": "stream",
     "text": [
      "Katrina caused the greatest damage of 125000000000.0\n"
     ]
    }
   ],
   "source": [
    "# 8\n",
    "# Calculating Hurricane Maximum Damage\n",
    "def find_max_damage_hurricane(hurricanes):\n",
    "    max_damage_hurricane = None\n",
    "    damage_value = float(\"-inf\")\n",
    "    for cane, data in hurricanes.items():\n",
    "        damages = data[\"damages\"]\n",
    "        if damages == \"Damages not recorded\":\n",
    "            continue\n",
    "        if damages > damage_value:\n",
    "            damage_value = damages\n",
    "            max_damage_hurricane = cane\n",
    "    return max_damage_hurricane, damage_value\n",
    "\n",
    "# find highest damage inducing hurricane and its total cost\n",
    "max_damage_cane, value_of_damages = find_max_damage_hurricane(hurricanes)\n",
    "print(f\"{max_damage_cane} caused the greatest damage of {value_of_damages}\")\n",
    "        "
   ]
  },
  {
   "cell_type": "markdown",
   "id": "58d22ddc",
   "metadata": {},
   "source": [
    "9. Lastly, you want to rate hurricanes according to how much damage they cause.\n",
    "\n",
    "   Write a function that rates hurricanes on a damage scale according to the following ratings, where the key is the rating and the value is the upper bound of damage for that rating.\n",
    "   ```py\n",
    "   damage_scale = {0: 0,\n",
    "   1: 100000000,\n",
    "   2: 1000000000,\n",
    "   3: 10000000000,\n",
    "   4: 50000000000}\n",
    "   ```\n",
    "   \n",
    "   For example, a hurricane with a `1` damage rating would have resulted in damages greater than `0` USD but less than or equal to `100000000` USD. A hurricane with a `5` damage rating would have resulted in damages greater than `50000000000` USD (talk about a lot of money).\n",
    "   \n",
    "   Store the hurricanes in a new dictionary where the keys are damage ratings and the values are lists containing a dictionary for each hurricane that falls into that damage rating.\n",
    "   \n",
    "   Test your function on your hurricane dictionary."
   ]
  },
  {
   "cell_type": "code",
   "execution_count": 36,
   "id": "e543f487",
   "metadata": {},
   "outputs": [
    {
     "name": "stdout",
     "output_type": "stream",
     "text": [
      "[{'name': 'New England', 'month': 'September', 'year': 1938, 'max_sustained_winds': 160, 'areas_affected': ['Southeastern United States', 'Northeastern United States', 'Southwestern Quebec'], 'damages': 306000000.0, 'deaths': 682}, {'name': 'Carla', 'month': 'September', 'year': 1961, 'max_sustained_winds': 175, 'areas_affected': ['Texas', 'Louisiana', 'Midwestern United States'], 'damages': 326000000.0, 'deaths': 43}, {'name': 'Beulah', 'month': 'September', 'year': 1967, 'max_sustained_winds': 160, 'areas_affected': ['The Caribbean', 'Mexico', 'Texas'], 'damages': 208000000.0, 'deaths': 688}, {'name': 'Felix', 'month': 'September', 'year': 2007, 'max_sustained_winds': 175, 'areas_affected': ['Nicaragua', 'Honduras'], 'damages': 720000000.0, 'deaths': 133}]\n"
     ]
    }
   ],
   "source": [
    "# 9\n",
    "# Rating Hurricanes by Damage\n",
    "def rate_hurricane_by_damages(hurricanes):\n",
    "    damage_scale = {0: 0,\n",
    "                1: 100000000,\n",
    "                2: 1000000000,\n",
    "                3: 10000000000,\n",
    "                4: 50000000000}\n",
    "\n",
    "    \n",
    "    hurricane_rated_by_damages = {0: [], 1:[], 2: [], 3:[], 4:[], 5:[]}\n",
    "    for hurricane, data in hurricanes.items():\n",
    "        damages = data[\"damages\"]\n",
    "        \n",
    "        if damages == \"Damages not recorded\" or damages == damage_scale[0]:\n",
    "            hurricane_rated_by_damages[0].append(data)\n",
    "        elif damage_scale[0] < damages <= damage_scale[1]:\n",
    "            hurricane_rated_by_damages[1].append(data)\n",
    "        elif damage_scale[1] < damages <= damage_scale[2]:\n",
    "            hurricane_rated_by_damages[2].append(data)\n",
    "        elif damage_scale[2] < damages <= damage_scale[3]:\n",
    "            hurricane_rated_by_damages[3].append(data)\n",
    "        elif damage_scale[3] < damages <= damage_scale[4]:\n",
    "            hurricane_rated_by_damages[4].append(data)\n",
    "        elif damages > damage_scale[4]:\n",
    "            hurricane_rated_by_damages[5].append(data)\n",
    "    return hurricane_rated_by_damages\n",
    "        \n",
    "\n",
    "\n",
    "# categorize hurricanes in new dictionary with damage severity as key\n",
    "hurricanes_rated_by_damages = rate_hurricane_by_damages(hurricanes)\n",
    "print(hurricanes_rated_by_damages[2])"
   ]
  },
  {
   "cell_type": "markdown",
   "id": "928c5fd2",
   "metadata": {},
   "source": [
    "## Solution"
   ]
  },
  {
   "cell_type": "markdown",
   "id": "252616a3",
   "metadata": {},
   "source": [
    "Great work! View the **Hurricane Analysis_Solution.ipynb** file or visit [our forums](https://discuss.codecademy.com/t/hurricane-analysis-challenge-project-python/462363) to compare your project to our sample solution code. You can also learn how to host your own solution on GitHub so you can share it with other learners! Your solution might look different than ours, and that's okay! There are multiple ways to solve these projects, and you'll learn more by seeing others' code."
   ]
  },
  {
   "cell_type": "code",
   "execution_count": null,
   "id": "da8f7141",
   "metadata": {},
   "outputs": [],
   "source": []
  }
 ],
 "metadata": {
  "kernelspec": {
   "display_name": "Python 3 (ipykernel)",
   "language": "python",
   "name": "python3"
  },
  "language_info": {
   "codemirror_mode": {
    "name": "ipython",
    "version": 3
   },
   "file_extension": ".py",
   "mimetype": "text/x-python",
   "name": "python",
   "nbconvert_exporter": "python",
   "pygments_lexer": "ipython3",
   "version": "3.13.5"
  },
  "vscode": {
   "interpreter": {
    "hash": "b784193cf0f9970b27f3c12f21dbff8ed97e3cf923dc23fe210654173bc3fdd0"
   }
  }
 },
 "nbformat": 4,
 "nbformat_minor": 5
}
